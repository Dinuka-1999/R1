{
 "cells": [
  {
   "cell_type": "code",
   "execution_count": null,
   "id": "3c06c90d",
   "metadata": {},
   "outputs": [],
   "source": [
    "import SimpleITK as sitk\n",
    "import numpy as np\n",
    "\n",
    "# Load the segmentation image\n",
    "segmentation_path = '/home/cellsmb/Desktop/Dinuka/Image_Analysis/nnUnet_raw/labelsTr/IF_Tr_0004.nii.gz'\n",
    "segmentation_image = sitk.ReadImage(segmentation_path)"
   ]
  },
  {
   "cell_type": "code",
   "execution_count": null,
   "id": "4ed69c3e",
   "metadata": {},
   "outputs": [],
   "source": [
    "# --- Myocardium Thickness Calculation ---\n",
    "\n",
    "# The label value for the myocardium in your segmentation\n",
    "myocardium_label = 1\n",
    "\n",
    "# Create a binary image for the myocardium\n",
    "myocardium_mask = sitk.BinaryThreshold(segmentation_image,\n",
    "                                      lowerThreshold=myocardium_label,\n",
    "                                      upperThreshold=myocardium_label,\n",
    "                                      insideValue=1,\n",
    "                                      outsideValue=0)\n",
    "\n",
    "# Calculate the signed Maurer distance map.\n",
    "# This computes the Euclidean distance to the closest boundary for each voxel.\n",
    "distance_map = sitk.SignedMaurerDistanceMap(myocardium_mask,\n",
    "                                            insideIsPositive=True,\n",
    "                                            squaredDistance=False,\n",
    "                                            useImageSpacing=True)\n",
    "\n",
    "# The thickness can be approximated by finding the maximum distance\n",
    "# within the segmented region, which corresponds to half the thickness.\n",
    "# We can then multiply by 2 to get the full thickness.\n",
    "# A more robust approach is to analyze the distribution of distances.\n",
    "\n",
    "# For a simple average thickness:\n",
    "# Get the numpy array from the distance map\n",
    "distance_array = sitk.GetArrayViewFromImage(distance_map)\n",
    "myocardium_mask_array = sitk.GetArrayViewFromImage(myocardium_mask)\n",
    "\n",
    "# Get the distance values only within the myocardium\n",
    "myocardium_distances = distance_array[myocardium_mask_array == 1]\n",
    "\n",
    "# The average \"radius\" is the mean of these distances\n",
    "average_radius = np.mean(myocardium_distances)\n",
    "average_thickness = average_radius * 2\n",
    "\n",
    "print(f\"Average Myocardium Thickness: {average_thickness} mm\")\n",
    "\n",
    "# Maximum thickness\n",
    "max_radius = np.max(myocardium_distances)\n",
    "max_thickness = max_radius * 2\n",
    "print(f\"Maximum Myocardium Thickness: {max_thickness} mm\")"
   ]
  },
  {
   "cell_type": "code",
   "execution_count": null,
   "id": "cd606f48",
   "metadata": {},
   "outputs": [],
   "source": [
    "import numpy as np\n",
    "from scipy import ndimage\n",
    "import matplotlib.pyplot as plt\n",
    "import nibabel as nib # Use nibabel to load your NIfTI files\n",
    "\n",
    "def calculate_and_visualize_thickness(segmentation_filepath, label_of_interest):\n",
    "    \"\"\"\n",
    "    Calculates and visualizes the thickness of a segmented object in a NIfTI file.\n",
    "\n",
    "    Args:\n",
    "        segmentation_filepath (str): Path to the NIfTI segmentation file.\n",
    "        label_of_interest (int): The integer value of the label to analyze.\n",
    "    \"\"\"\n",
    "    # Load the NIfTI file\n",
    "    nifti_image = nib.load(segmentation_filepath)\n",
    "    segmentation_data = nifti_image.get_fdata()\n",
    "    \n",
    "    # --- 1. Create a Binary Mask ---\n",
    "    # Isolate the specific label you're interested in\n",
    "    binary_mask = (segmentation_data == label_of_interest).astype(np.uint8)\n",
    "\n",
    "    # --- 2. Calculate Thickness using SciPy ---\n",
    "    # The distance_transform_edt function calculates the exact Euclidean distance\n",
    "    # for each point in the mask to the nearest background point (zero).\n",
    "    # We use the voxel spacing from the header for measurements in mm.\n",
    "    voxel_spacing = nifti_image.header.get_zooms()\n",
    "    print(f\"Voxel Spacing: {voxel_spacing} mm\")\n",
    "    distance_array_mm = ndimage.distance_transform_edt(binary_mask)\n",
    "\n",
    "    print(distance_array_mm)\n",
    "    # --- 3. Analyze the Results ---\n",
    "    shell_distances = distance_array_mm[binary_mask == 1]\n",
    "    \n",
    "    if len(shell_distances) == 0:\n",
    "        print(f\"No voxels found for label {label_of_interest}. Cannot calculate thickness.\")\n",
    "        return\n",
    "\n",
    "    average_radius = np.mean(shell_distances)\n",
    "    average_thickness = average_radius * 2\n",
    "    max_radius = np.max(shell_distances)\n",
    "    max_thickness = max_radius * 2\n",
    "\n",
    "    print(f\"--- Results for Label {label_of_interest} ---\")\n",
    "    print(f\"Average Thickness: {average_thickness:.2f} mm\")\n",
    "    print(f\"Maximum Thickness: {max_thickness:.2f} mm\")\n",
    "\n",
    "    # --- 4. Visualize the Process ---\n",
    "    # Find a slice with the label to visualize\n",
    "    slice_index = int(np.where(binary_mask == 1)[0].mean())\n",
    "\n",
    "    plt.figure(figsize=(12, 5))\n",
    "    plt.subplot(1, 2, 1)\n",
    "    plt.imshow(binary_mask[slice_index, :, :], cmap='gray')\n",
    "    plt.title(f'Binary Mask (Slice {slice_index})')\n",
    "    plt.colorbar()\n",
    "\n",
    "    plt.subplot(1, 2, 2)\n",
    "    img = plt.imshow(distance_array_mm[slice_index, :, :], cmap='viridis')\n",
    "    plt.title('Distance Transform Map')\n",
    "    plt.colorbar(img, label='Distance to boundary (mm)')\n",
    "    \n",
    "    plt.suptitle(f'Thickness Visualization for Label {label_of_interest}')\n",
    "    plt.tight_layout(rect=[0, 0.03, 1, 0.95])\n",
    "    plt.show()\n",
    "\n",
    "\n",
    "# --- How to use it with your data ---\n",
    "# Replace with the actual path to your file and the correct label number\n",
    "# calculate_and_visualize_thickness('path/to/your/segmentation.nii.gz', 1) # For myocardium\n",
    "# calculate_and_visualize_thickness('path/to/your/segmentation.nii.gz', 2) # For endocardium"
   ]
  },
  {
   "cell_type": "code",
   "execution_count": 18,
   "id": "56694edd",
   "metadata": {},
   "outputs": [
    {
     "data": {
      "text/plain": [
       "array([[[0, 0, 0, 1, 1],\n",
       "        [1, 1, 1, 1, 1],\n",
       "        [2, 2, 2, 3, 3],\n",
       "        [3, 3, 3, 3, 3],\n",
       "        [4, 4, 4, 4, 4]],\n",
       "\n",
       "       [[0, 0, 0, 1, 1],\n",
       "        [0, 1, 1, 1, 1],\n",
       "        [0, 0, 0, 4, 4],\n",
       "        [0, 0, 0, 4, 4],\n",
       "        [0, 0, 3, 3, 4]]], dtype=int32)"
      ]
     },
     "execution_count": 18,
     "metadata": {},
     "output_type": "execute_result"
    }
   ],
   "source": [
    "a = np.array(([0,1,1,1,1],\n",
    "              [0,0,1,1,1],\n",
    "              [0,1,1,1,1],\n",
    "              [0,1,1,1,0],\n",
    "              [0,1,1,0,0]))\n",
    "edt, inds = ndimage.distance_transform_edt(a,sampling=[2,1], return_indices=True)\n",
    "inds"
   ]
  },
  {
   "cell_type": "code",
   "execution_count": 19,
   "id": "35f36d0b",
   "metadata": {},
   "outputs": [
    {
     "data": {
      "text/plain": [
       "array([[0.        , 1.        , 2.        , 2.82842712, 3.60555128],\n",
       "       [0.        , 0.        , 1.        , 2.        , 3.        ],\n",
       "       [0.        , 1.        , 2.        , 2.23606798, 2.        ],\n",
       "       [0.        , 1.        , 2.        , 1.        , 0.        ],\n",
       "       [0.        , 1.        , 1.        , 0.        , 0.        ]])"
      ]
     },
     "execution_count": 19,
     "metadata": {},
     "output_type": "execute_result"
    }
   ],
   "source": [
    "edt"
   ]
  },
  {
   "cell_type": "code",
   "execution_count": 13,
   "id": "0f78cc34",
   "metadata": {},
   "outputs": [
    {
     "data": {
      "text/plain": [
       "2.23606797749979"
      ]
     },
     "execution_count": 13,
     "metadata": {},
     "output_type": "execute_result"
    }
   ],
   "source": [
    "((2-1)**2+(3-1)**2)**0.5"
   ]
  },
  {
   "cell_type": "code",
   "execution_count": null,
   "id": "c35eb126",
   "metadata": {},
   "outputs": [],
   "source": [
    "calculate_and_visualize_thickness(\"hollow_sphere.nii.gz\",1)"
   ]
  },
  {
   "cell_type": "code",
   "execution_count": null,
   "id": "cc06958a",
   "metadata": {},
   "outputs": [],
   "source": [
    "\n",
    "import numpy as np\n",
    "from scipy import ndimage\n",
    "import matplotlib.pyplot as plt\n",
    "import nibabel as nib # Use nibabel to load your NIfTI files\n",
    "# --- 1. SETUP: Create an empty 3D array and define coordinates ---\n",
    "image_size = [100, 100, 100]\n",
    "center = [50, 50, 50]\n",
    "numpy_array = np.zeros(image_size, dtype=np.uint8) # The empty canvas\n",
    "z, y, x = np.ogrid[0:image_size[0], 0:image_size[1], 0:image_size[2]] # Voxel coordinates\n",
    "\n",
    "# --- 2. DEFINE SHAPES: Define the radii for our hollow sphere ---\n",
    "outer_radius = 40\n",
    "inner_radius = 30\n",
    "\n",
    "# --- 3. CREATE STENCILS: Make boolean masks for each sphere ---\n",
    "# A boolean mask where True means \"inside the big sphere\"\n",
    "outer_sphere_mask = (x - center[2])**2 + (y - center[1])**2 + (z - center[0])**2 <= outer_radius**2\n",
    "# A boolean mask where True means \"inside the small sphere\"\n",
    "inner_sphere_mask = (x - center[2])**2 + (y - center[1])**2 + (z - center[0])**2 <= inner_radius**2\n",
    "\n",
    "# --- 4. SUBTRACTION: Create the hollow shell by subtracting the inner from the outer ---\n",
    "# This results in a final mask that is True only for the voxels in the shell\n",
    "hollow_sphere = outer_sphere_mask & ~inner_sphere_mask\n",
    "\n",
    "# --- 5. APPLY TO IMAGE: Use the final mask to \"paint\" the shell onto our canvas ---\n",
    "# This sets all voxels corresponding to the shell to a value of 1\n",
    "numpy_array[hollow_sphere] = 1"
   ]
  },
  {
   "cell_type": "code",
   "execution_count": null,
   "id": "3857bec5",
   "metadata": {},
   "outputs": [],
   "source": [
    "# visualize the hollow sphere in 3d\n",
    "fig = plt.figure(figsize=(8, 8))\n",
    "ax = fig.add_subplot(111, projection='3d')\n",
    "ax.voxels(numpy_array, facecolors='cyan', edgecolors='k')\n",
    "ax.set_title('Hollow Sphere (3D View)')\n",
    "plt.show()\n"
   ]
  },
  {
   "cell_type": "code",
   "execution_count": null,
   "id": "eb723606",
   "metadata": {},
   "outputs": [],
   "source": [
    "affine = np.eye(4)\n",
    "\n",
    "# Create the NIfTI image object from the array and the affine matrix.\n",
    "nifti_image = nib.Nifti1Image(numpy_array, affine)\n",
    "\n",
    "# --- 3. Save the Image to a File ---\n",
    "output_filename = 'hollow_sphere.nii.gz'\n",
    "nib.save(nifti_image, output_filename)\n",
    "\n",
    "print(f\"✅ Successfully saved the 3D image to: {output_filename}\")"
   ]
  },
  {
   "cell_type": "code",
   "execution_count": null,
   "id": "9144435c",
   "metadata": {},
   "outputs": [],
   "source": [
    "import napari \n",
    "viewer = napari.Viewer()\n",
    "img = nib.load('hollow_sphere.nii.gz').get_fdata()\n",
    "viewer.add_image(img, name='Hollow Sphere')"
   ]
  }
 ],
 "metadata": {
  "kernelspec": {
   "display_name": "Python (IMAGE_ANALYSIS)",
   "language": "python",
   "name": "image_analysis"
  },
  "language_info": {
   "codemirror_mode": {
    "name": "ipython",
    "version": 3
   },
   "file_extension": ".py",
   "mimetype": "text/x-python",
   "name": "python",
   "nbconvert_exporter": "python",
   "pygments_lexer": "ipython3",
   "version": "3.13.7"
  }
 },
 "nbformat": 4,
 "nbformat_minor": 5
}

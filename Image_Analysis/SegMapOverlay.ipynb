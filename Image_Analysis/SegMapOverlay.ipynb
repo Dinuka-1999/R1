{
 "cells": [
  {
   "cell_type": "code",
   "execution_count": null,
   "metadata": {},
   "outputs": [
    {
     "name": "stderr",
     "output_type": "stream",
     "text": [
      "QSocketNotifier: Can only be used with threads started with QThread\n"
     ]
    }
   ],
   "source": [
    "%gui qt\n",
    "\n",
    "import nibabel as nib\n",
    "import napari\n",
    "import numpy as np\n",
    "import os\n",
    "\n",
    "viewer = napari.Viewer()\n",
    "\n",
    "raw_img_path = \"/home/cellsmb/Desktop/Dinuka/Image_Analysis/nnUnet_raw/imagesTr\" \n",
    "gen_seg_path = \"/home/cellsmb/Desktop/Dinuka/Image_Analysis/Model_results/Model_results/IF_352_6img_results/all_segs\"\n",
    "raw_seg_path = \"/home/cellsmb/Desktop/Dinuka/Image_Analysis/nnUnet_raw/labelsTr\"\n",
    "\n",
    "files =[]\n",
    "gen_map_labels_if_available = []\n",
    "raw_map_labels_if_available = []\n",
    "\n",
    "if raw_seg_path is not None:\n",
    "    assert os.path.exists(raw_img_path), f\"Raw image path {raw_img_path} does not exist.\"\n",
    "    files = os.listdir(raw_seg_path)\n",
    "elif gen_seg_path is not None:\n",
    "    files = os.listdir(gen_seg_path)\n",
    "else:\n",
    "    files = os.listdir(raw_img_path)\n",
    "\n",
    "def napari_visualisation(IM_ID: int, ID_from_segs: bool = True, iteration: int = 0):\n",
    "    global gen_map_labels_if_available, raw_map_labels_if_available\n",
    "\n",
    "    nii_path_img1 = f\"{raw_img_path}/IF_Tr_{IM_ID:04d}_0000.nii.gz\"\n",
    "    nii_path_img2 = f\"{raw_img_path}/IF_Tr_{IM_ID:04d}_0001.nii.gz\"\n",
    "    img1 = nib.load(nii_path_img1).get_fdata().astype(np.uint8)\n",
    "    img2 = nib.load(nii_path_img2).get_fdata().astype(np.uint8) \n",
    "    viewer.add_image(img1, name='Endocardium_%d'%IM_ID, colormap='gray', blending='additive')\n",
    "    viewer.add_image(img2, name='Myocardium_%d'%IM_ID, colormap='gray', blending='additive')\n",
    "\n",
    "    if ID_from_segs:\n",
    "        if gen_seg_path is not None:\n",
    "            seg_path_gen = f\"{gen_seg_path}/IF_Tr_{IM_ID:04d}.nii.gz\"\n",
    "            gen_segm = nib.load(seg_path_gen).get_fdata().astype(np.uint8)\n",
    "            if iteration == 0:\n",
    "                gen_map_labels_if_available= [1,2,3,4,5]\n",
    "            add_labels_to_viewer(gen_segm, \"gen_seg\", gen_map_labels_if_available)\n",
    "\n",
    "        if raw_seg_path is not None:\n",
    "            seg_path_raw = f\"{raw_seg_path}/IF_Tr_{IM_ID:04d}.nii.gz\"\n",
    "            raw_segm = nib.load(seg_path_raw).get_fdata().astype(np.uint8)\n",
    "            if iteration == 0:\n",
    "                raw_map_labels_if_available= [1,2,3,4,5]\n",
    "            add_labels_to_viewer(raw_segm, \"raw_seg\", raw_map_labels_if_available)\n",
    "    \n",
    "def add_labels_to_viewer(segmentation, name, labels):\n",
    "    for r in range(1,5):\n",
    "        label_of_interest = labels[r]\n",
    "        mask1 = (segmentation== label_of_interest).astype(np.uint8) * label_of_interest\n",
    "        viewer.add_labels(mask1, name=f\"{name}_{label_of_interest}_{IM_ID}\", blending=\"multiplicative\", opacity=0.7)\n",
    "\n",
    "iteration = 0\n",
    "for IMAGE_FILE in files:\n",
    "    if IMAGE_FILE.endswith('.nii.gz'):\n",
    "        split_name = IMAGE_FILE.split('_')\n",
    "        if len(split_name) == 3:\n",
    "            IM_ID = int(split_name[2].split('.')[0])\n",
    "            napari_visualisation(IM_ID,True, iteration)\n",
    "            iteration += 1\n",
    "        elif len(split_name) == 4:\n",
    "            IM_ID = int(split_name[2])\n",
    "            napari_visualisation(IM_ID, False)"
   ]
  }
 ],
 "metadata": {
  "kernelspec": {
   "display_name": "Python (IMAGE_ANALYSIS)",
   "language": "python",
   "name": "image_analysis"
  },
  "language_info": {
   "codemirror_mode": {
    "name": "ipython",
    "version": 3
   },
   "file_extension": ".py",
   "mimetype": "text/x-python",
   "name": "python",
   "nbconvert_exporter": "python",
   "pygments_lexer": "ipython3",
   "version": "3.13.7"
  }
 },
 "nbformat": 4,
 "nbformat_minor": 2
}

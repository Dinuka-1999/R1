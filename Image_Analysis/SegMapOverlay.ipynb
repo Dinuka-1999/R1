{
 "cells": [
  {
   "cell_type": "code",
   "execution_count": 1,
   "metadata": {},
   "outputs": [],
   "source": [
    "import nibabel as nib\n",
    "import napari\n",
    "import numpy as np\n",
    "from tifffile import imread\n",
    "# Load image and segmentatio2\n",
    "nii_path_img1 = \"/Users/dbattagodage/Desktop/Datasets/nnUnet_raw/Dataset353_SingleChannel/imagesTr/IF_Tr_0003_0000.nii.gz\"\n",
    "model_seg_path= \"/Users/dbattagodage/Desktop/Datasets/nnUnet_raw/Dataset353_SingleChannel/labelsTr/IF_Tr_0003.nii.gz\"\n",
    "\n",
    "img1 = nib.load(nii_path_img1).get_fdata()\n",
    "# img2 = nib.load(nii_path_img2).get_fdata()\n",
    "# seg = nib.load(nii_path_seg).get_fdata().astype(np.uint8)\n",
    "model_segm = nib.load(model_seg_path).get_fdata().astype(np.uint8)\n",
    "\n",
    "\n",
    "# Visualize in Napari\n",
    "viewer = napari.Viewer()\n",
    "viewer.add_image(img1, name='img', colormap='gray', blending='additive')\n",
    "# viewer.add_image(img2, name='img2', colormap='gray', blending='additive')\n",
    "# viewer.add_labels(seg, name='original', blending='translucent', opacity=0.5)\n",
    "viewer.add_labels(model_segm, name='model_segmentation', blending='translucent', opacity=0.5)\n",
    "napari.run()"
   ]
  }
 ],
 "metadata": {
  "kernelspec": {
   "display_name": "base",
   "language": "python",
   "name": "python3"
  },
  "language_info": {
   "codemirror_mode": {
    "name": "ipython",
    "version": 3
   },
   "file_extension": ".py",
   "mimetype": "text/x-python",
   "name": "python",
   "nbconvert_exporter": "python",
   "pygments_lexer": "ipython3",
   "version": "3.12.9"
  }
 },
 "nbformat": 4,
 "nbformat_minor": 2
}

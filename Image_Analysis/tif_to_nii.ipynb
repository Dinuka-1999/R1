{
 "cells": [
  {
   "cell_type": "markdown",
   "metadata": {},
   "source": [
    "### Convert the tiff files to NifTi "
   ]
  },
  {
   "cell_type": "code",
   "execution_count": null,
   "metadata": {},
   "outputs": [
    {
     "name": "stdout",
     "output_type": "stream",
     "text": [
      "Processing folder:  YJ_WIF#7 TTNKI#186 15ps WT  with IMAGE_ID:  1\n",
      "Processing folder:  E9.5  with IMAGE_ID:  2\n",
      "Processing folder:  YJ_WIF#16 TTNKI 588 8ps WT  with IMAGE_ID:  3\n",
      "Processing folder:  YJ_WIF#16 TTNKI 597 13ps WT  with IMAGE_ID:  4\n",
      "Processing folder:  YJ_WIF#16 TTNKI 599 10ps WT  with IMAGE_ID:  5\n",
      "Processing folder:  YJ_WIF#16 TTNKI;mT#353 19ps WT  with IMAGE_ID:  6\n"
     ]
    }
   ],
   "source": [
    "\"\"\"Fix the spacings to the minimum among among all the datasets. This alleviates the need for resampling during both training and inference. This is mandotory where \n",
    "the images are very large(>2GB in uncpompressed format) and cannot be resampled on the fly due to memory issues.\"\"\"\n",
    "\n",
    "\n",
    "import numpy as np\n",
    "import nibabel as nib\n",
    "import os\n",
    "import tifffile as tiff\n",
    "import SimpleITK as sitk\n",
    "\n",
    "img_path=\"/home/cellsmb/Desktop/Dinuka/Image_Analysis/New_IF_Dataset/New_IF_Dataset\" #main folder for all images\n",
    "seg_path=\"/home/cellsmb/Desktop/Dinuka/Image_Analysis/New_IF_Dataset/New_IF_Dataset\" #main folder for segmentation files\n",
    "raw_path =\"/home/cellsmb/Desktop/Dinuka/Image_Analysis/nnUnet_raw\" #where to save the processed files\n",
    "\n",
    "file_indexes = {\"Endo.tif\":0,\"Myo_Registered.tif\":1,\"Nuclei_Registered.tif\":2, }\n",
    "IMAGE_ID = 0\n",
    "\n",
    "\n",
    "if not os.path.exists(raw_path):\n",
    "    os.makedirs(raw_path)\n",
    "    os.makedirs(os.path.join(raw_path,'labelsTr'))\n",
    "    os.makedirs(os.path.join(raw_path,'imagesTr'))\n",
    "\n",
    "min_spacing = (0,0,0)\n",
    "max_spacing =(0,0,0)\n",
    "\n",
    "num_itterations = 0\n",
    "for folder in os.listdir(seg_path):\n",
    "    if os.path.isdir(os.path.join(seg_path, folder)):\n",
    "        for files in os.listdir(os.path.join(seg_path, folder)):\n",
    "            if files.endswith(\".nii\"):\n",
    "                file = sitk.ReadImage(os.path.join(seg_path, folder, files))\n",
    "                spacing = file.GetSpacing()\n",
    "                if num_itterations == 0:\n",
    "                    min_spacing = spacing\n",
    "                    max_spacing = spacing\n",
    "                else:\n",
    "                    min_spacing = np.minimum(min_spacing, spacing)\n",
    "                    max_spacing = np.maximum(max_spacing, spacing)\n",
    "                num_itterations += 1\n",
    "print(\"Min Spacing: \", min_spacing)\n",
    "print(\"Max Spacing: \", max_spacing)\n",
    "\n",
    "for folder in os.listdir(seg_path):\n",
    "    if os.path.isdir(os.path.join(seg_path, folder)):\n",
    "        IMAGE_ID += 1\n",
    "        print(\"Processing folder: \", folder, \" with IMAGE_ID: \", IMAGE_ID)\n",
    "        for files in os.listdir(os.path.join(seg_path, folder)):\n",
    "            if files.endswith(\".nii\"):\n",
    "                seg_file_path=os.path.join(seg_path, folder, files)\n",
    "                ref_file=sitk.ReadImage(seg_file_path)\n",
    "                ref_file_again = nib.load(seg_file_path)\n",
    "\n",
    "                ref_file_again.header[\"dim\"][4:]=1\n",
    "                ref_file_again.header[\"xyzt_units\"]=2\n",
    "                ref_file_again.header[\"sform_code\"]=1\n",
    "\n",
    "                # if np.any([(a/b)>1 for a,b in zip(ref_file.GetSpacing(), min_spacing)]):\n",
    "                new_spacing = min_spacing\n",
    "                new_affine = np.diag([min_spacing[0], min_spacing[1], min_spacing[2], 1.0])\n",
    "                # else:\n",
    "                #     new_spacing = ref_file.GetSpacing()\n",
    "                #     new_affine = ref_file_again.affine\n",
    "                ref_file_again = nib.Nifti1Image(ref_file_again.get_fdata().astype(np.uint8), new_affine, ref_file_again.header)\n",
    "                ref_file_again.header.set_zooms(new_spacing)\n",
    "\n",
    "                nib.save(ref_file_again, os.path.join(raw_path,\"labelsTr\", \"IF_Tr_%0.4d.nii.gz\"%IMAGE_ID))\n",
    "                break\n",
    "\n",
    "        for files in os.listdir(os.path.join(img_path, folder)):\n",
    "            if os.path.isdir(os.path.join(img_path, folder, files)):\n",
    "                for file in os.listdir(os.path.join(img_path, folder, files)):\n",
    "                    if file.endswith(\".tif\"):\n",
    "                        for key in file_indexes.keys():\n",
    "                            if file.endswith(key):\n",
    "                                file_ID = file_indexes[key]\n",
    "                                tif_file=os.path.join(img_path, folder, files, file)\n",
    "                                tif_file=tiff.imread(tif_file).astype(np.uint8)\n",
    "\n",
    "                                sitk_image = sitk.GetImageFromArray(tif_file)\n",
    "                                sitk_image.SetSpacing(new_spacing) #ref_file.GetSpacing())\n",
    "                                sitk_image.SetOrigin(ref_file.GetOrigin()) #ref_file.GetOrigin())\n",
    "                                sitk_image.SetDirection(ref_file.GetDirection()) #ref_file.GetDirection())\n",
    "                                tmp_path = os.path.join(raw_path,\"imagesTr\", \"IF_Tr_%0.4d_%0.4d.nii.gz\"%(IMAGE_ID,file_ID))\n",
    "                                sitk.WriteImage(sitk_image, tmp_path)\n",
    "                                del sitk_image\n",
    "                                del tif_file\n",
    "\n",
    "                                img_again = nib.load(tmp_path)\n",
    "                                img_again = nib.Nifti1Image(img_again.get_fdata(), new_affine,img_again.header)\n",
    "                                nib.save(img_again, tmp_path)\n",
    "\n",
    "            else:\n",
    "                if files.endswith(\".tif\"):\n",
    "                    tif_file=os.path.join(img_path, folder, files)\n",
    "                    tif_file=tiff.imread(tif_file).astype(np.uint8)\n",
    "\n",
    "                    sitk_image = sitk.GetImageFromArray(tif_file)\n",
    "                    sitk_image.SetSpacing(new_spacing)\n",
    "                    sitk_image.SetOrigin(ref_file.GetOrigin()) #ref_file.GetOrigin())\n",
    "                    sitk_image.SetDirection(ref_file.GetDirection()) #ref_file.GetDirection())\n",
    "                    sitk.WriteImage(sitk_image, os.path.join(raw_path,\"imagesTr\", \"IF_Tr_%0.4d_0000.nii.gz\"%IMAGE_ID))"
   ]
  },
  {
   "cell_type": "code",
   "execution_count": 19,
   "metadata": {},
   "outputs": [],
   "source": [
    "import nibabel as nib\n",
    "import os\n",
    "import numpy as np\n",
    "folder = \"/home/cellsmb/Desktop/Dinuka/Image_Analysis/Model_results/Model_results/IF_352_6img_results/all_segs_no_bg\"\n",
    "new_affine = np.diag([min_spacing[0], min_spacing[1], min_spacing[2], 1.0])\n",
    "\n",
    "for file in os.listdir(folder):\n",
    "    if file.endswith(\".nii.gz\"):\n",
    "        img = nib.load(os.path.join(folder, file))\n",
    "        img = nib.Nifti1Image(img.get_fdata().astype(np.uint8), new_affine, img.header)\n",
    "        nib.save(img, os.path.join(folder, file))  # Overwrite the original file"
   ]
  },
  {
   "cell_type": "code",
   "execution_count": 2,
   "metadata": {},
   "outputs": [
    {
     "name": "stdout",
     "output_type": "stream",
     "text": [
      "[[0.27000001 0.         0.         0.        ]\n",
      " [0.         0.27000001 0.         0.        ]\n",
      " [0.         0.         1.         0.        ]\n",
      " [0.         0.         0.         1.        ]]\n",
      "[[0.27000001 0.         0.         0.        ]\n",
      " [0.         0.27000001 0.         0.        ]\n",
      " [0.         0.         1.         0.        ]\n",
      " [0.         0.         0.         1.        ]]\n",
      "('R', 'A', 'S')\n",
      "('R', 'A', 'S')\n"
     ]
    }
   ],
   "source": [
    "#change the file name ; Increment the IMAGE_ID by 1\n",
    "\n",
    "import os\n",
    "import SimpleITK as sitk\n",
    "import nibabel as nib\n",
    "from nibabel.orientations import aff2axcodes, io_orientation, axcodes2ornt, ornt_transform\n",
    "path = \"/home/cellsmb/Desktop/Dinuka/Image_Analysis/nnUnet_raw/imagesTr/IF_Tr_0001_0000.nii.gz\"\n",
    "seg = \"/home/cellsmb/Desktop/Dinuka/Image_Analysis/nnUnet_raw/labelsTr/IF_Tr_0002.nii.gz\"\n",
    "img = nib.load(path)\n",
    "seg=nib.load(seg)\n",
    "\n",
    "print(seg.affine)\n",
    "print(img.affine)\n",
    "print(aff2axcodes(seg.affine))\n",
    "print(aff2axcodes(img.affine))"
   ]
  },
  {
   "cell_type": "code",
   "execution_count": 4,
   "metadata": {},
   "outputs": [
    {
     "data": {
      "text/plain": [
       "array([1., 2., 3., 4., 5.])"
      ]
     },
     "execution_count": 4,
     "metadata": {},
     "output_type": "execute_result"
    }
   ],
   "source": [
    "import numpy as np\n",
    "np.unique(seg.get_fdata())"
   ]
  },
  {
   "cell_type": "code",
   "execution_count": null,
   "metadata": {},
   "outputs": [
    {
     "name": "stdout",
     "output_type": "stream",
     "text": [
      "/home/cellsmb/Desktop/Dinuka/Image_Analysis/nnUnet_raw/labelsTr/IF_Tr_0002.nii.gz\n"
     ]
    }
   ],
   "source": [
    "#### CONVERT THE SEGMENTATION LABELS\n",
    "\n",
    "import numpy as np\n",
    "import nibabel as nib\n",
    "import os\n",
    "\n",
    "path=\"/home/cellsmb/Desktop/Dinuka/Image_Analysis/nnUnet_raw/labelsTr\"\n",
    "\n",
    "for files in os.listdir(path):\n",
    "    if files.endswith(\".nii.gz\"):\n",
    "        seg_file_path=os.path.join(path, files)\n",
    "        print(seg_file_path)\n",
    "        seg=nib.load(seg_file_path)\n",
    "        seg_file=seg.get_fdata().astype(np.uint8)\n",
    "        \n",
    "        seg_file[seg_file==1]=0\n",
    "        seg_file[seg_file==2]=1\n",
    "        seg_file[seg_file==3]=2\n",
    "        seg_file[seg_file==4]=3\n",
    "        seg_file[seg_file==5]=4\n",
    "        seg_file=nib.Nifti1Image(seg_file.astype(np.uint8), seg.affine, seg.header)\n",
    "        nib.save(seg_file, os.path.join(path,files))\n"
   ]
  },
  {
   "cell_type": "code",
   "execution_count": 1,
   "metadata": {},
   "outputs": [
    {
     "name": "stdout",
     "output_type": "stream",
     "text": [
      "Dome\n"
     ]
    }
   ],
   "source": [
    "import numpy as np\n",
    "import nibabel as nib\n",
    "import os\n",
    "\n",
    "img = nib.load(\"/home/cellsmb/Desktop/Dinuka/Image_Analysis/nnUnet_raw/labelsTr/IF_Tr_0002.nii.gz\")\n",
    "arr = img.get_fdata().astype(np.uint8)\n",
    "arr[arr==4]=7\n",
    "arr[arr==5]=4\n",
    "arr[arr==7]=5\n",
    "print(\"Dome\")\n",
    "arr = nib.Nifti1Image(arr.astype(np.uint8), img.affine, img.header)\n",
    "nib.save(arr, \"/home/cellsmb/Desktop/Dinuka/Image_Analysis/nnUnet_raw/labelsTr/IF_Tr_0002.nii.gz\")"
   ]
  },
  {
   "cell_type": "code",
   "execution_count": null,
   "metadata": {},
   "outputs": [],
   "source": [
    "import nibabel as nib\n",
    "import numpy as np\n",
    "\n",
    "seg= nib.load(\"/Users/dbattagodage/Desktop/Datasets/nnUnet_raw/Dataset352_IF/labelsTr/IF_Tr_0003.nii.gz\").get_fdata().astype(np.uint8)\n",
    "np.unique(seg)"
   ]
  },
  {
   "cell_type": "code",
   "execution_count": null,
   "metadata": {},
   "outputs": [],
   "source": [
    "## Change the dtype\n",
    "\n",
    "import numpy as np\n",
    "import nibabel as nib\n",
    "import os\n",
    "new_path=\"/Users/dbattagodage/Desktop/Datasets/nnUNet_raw/Dataset355_Endocardium\"\n",
    "path=\"/Users/dbattagodage/Desktop/Datasets/nnUNet_raw/Dataset345_Endocardium\"\n",
    "os.mkdir(os.path.join(path, \"imagesTr_2\"))\n",
    "\n",
    "for files in os.listdir(os.path.join(path, \"imagesTr\")):\n",
    "    if files.endswith(\".nii.gz\"):\n",
    "        file_path=os.path.join(path, \"imagesTr\", files)\n",
    "        nib_file=nib.load(file_path)\n",
    "        nib_file_data=nib_file.get_fdata().astype(np.float32)\n",
    "        nib_image=nib.Nifti1Image(nib_file_data, nib_file.affine, nib_file.header)\n",
    "        nib_image.set_data_dtype(np.float32)\n",
    "        nib.save(nib_image, os.path.join(path, \"imagesTr_2\", files))"
   ]
  }
 ],
 "metadata": {
  "kernelspec": {
   "display_name": "Python (IMAGE_ANALYSIS)",
   "language": "python",
   "name": "image_analysis"
  },
  "language_info": {
   "codemirror_mode": {
    "name": "ipython",
    "version": 3
   },
   "file_extension": ".py",
   "mimetype": "text/x-python",
   "name": "python",
   "nbconvert_exporter": "python",
   "pygments_lexer": "ipython3",
   "version": "3.13.7"
  }
 },
 "nbformat": 4,
 "nbformat_minor": 2
}

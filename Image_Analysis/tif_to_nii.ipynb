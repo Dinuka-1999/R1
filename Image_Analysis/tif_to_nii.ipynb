{
 "cells": [
  {
   "cell_type": "code",
   "execution_count": 1,
   "metadata": {},
   "outputs": [
    {
     "name": "stdout",
     "output_type": "stream",
     "text": [
      "Min Spacing:  [0.27000001 0.27000001 1.        ]\n",
      "Max Spacing:  [ 270.  270. 1000.]\n",
      "Processing folder:  YJ_WIF#7 TTNKI#186 15ps WT  with IMAGE_ID:  1\n",
      "Processing folder:  YJ_WIF#16 TTNKI;mT#353 19ps WT  with IMAGE_ID:  2\n",
      "Processing folder:  E9.5 Mariana  with IMAGE_ID:  3\n",
      "Processing folder:  YJ_WIF#16 TTNKI 599 10ps WT  with IMAGE_ID:  4\n",
      "Processing folder:  YJ_WIF#16 TTNKI 588 8ps WT  with IMAGE_ID:  5\n",
      "Processing folder:  YJ_WIF#16 TTNKI 597 13ps WT  with IMAGE_ID:  6\n"
     ]
    }
   ],
   "source": [
    "import numpy as np\n",
    "import nibabel as nib\n",
    "import os\n",
    "import tifffile as tiff\n",
    "import SimpleITK as sitk\n",
    "\n",
    "img_path=\"/Users/dbattagodage/Desktop/Datasets/New_IF_Dataset\" #main folder for all images\n",
    "seg_path = \"/Users/dbattagodage/Desktop/Datasets/New_IF_Dataset\" #main folder for segmentation files\n",
    "raw_path =\"/Users/dbattagodage/Desktop/Datasets/nnUnet_raw/Dataset352_IF\" #where to save the processed files\n",
    "\n",
    "file_indexes = {\"Endo.tif\":0,\"Myo_Registered.tif\":1,\"Nuclei_Registered.tif\":2, }\n",
    "IMAGE_ID = 0\n",
    "\n",
    "min_spacing = (0,0,0)\n",
    "max_spacing =(0,0,0)\n",
    "\n",
    "num_itterations = 0\n",
    "for folder in os.listdir(seg_path):\n",
    "    if os.path.isdir(os.path.join(seg_path, folder)):\n",
    "        for files in os.listdir(os.path.join(seg_path, folder)):\n",
    "            if files.endswith(\".nii\"):\n",
    "                file = sitk.ReadImage(os.path.join(seg_path, folder, files))\n",
    "                spacing = file.GetSpacing()\n",
    "                if num_itterations == 0:\n",
    "                    min_spacing = spacing\n",
    "                    max_spacing = spacing\n",
    "                else:\n",
    "                    min_spacing = np.minimum(min_spacing, spacing)\n",
    "                    max_spacing = np.maximum(max_spacing, spacing)\n",
    "                num_itterations += 1\n",
    "print(\"Min Spacing: \", min_spacing)\n",
    "print(\"Max Spacing: \", max_spacing)\n",
    "\n",
    "for folder in os.listdir(seg_path):\n",
    "    if os.path.isdir(os.path.join(seg_path, folder)):\n",
    "        IMAGE_ID += 1\n",
    "        print(\"Processing folder: \", folder, \" with IMAGE_ID: \", IMAGE_ID)\n",
    "        for files in os.listdir(os.path.join(seg_path, folder)):\n",
    "            if files.endswith(\".nii\"):\n",
    "                seg_file_path=os.path.join(seg_path, folder, files)\n",
    "                ref_file=sitk.ReadImage(seg_file_path)\n",
    "                ref_file_again = nib.load(seg_file_path)\n",
    "\n",
    "                ref_file_again.header[\"dim\"][4:]=1\n",
    "                ref_file_again.header[\"xyzt_units\"]=2\n",
    "                ref_file_again.header[\"sform_code\"]=1\n",
    "\n",
    "                # if np.any([(a/b)>1 for a,b in zip(ref_file.GetSpacing(), min_spacing)]):\n",
    "                new_spacing = min_spacing\n",
    "                new_affine = np.diag([-min_spacing[0], -min_spacing[1], min_spacing[2], 1.0])\n",
    "                # else:\n",
    "                #     new_spacing = ref_file.GetSpacing()\n",
    "                #     new_affine = ref_file_again.affine\n",
    "                ref_file_again = nib.Nifti1Image(ref_file_again.get_fdata().astype(np.uint8), new_affine, ref_file_again.header)\n",
    "                ref_file_again.header.set_zooms(new_spacing)\n",
    "\n",
    "                nib.save(ref_file_again, os.path.join(raw_path,\"labelsTr\", \"IF_Tr_%0.4d.nii.gz\"%IMAGE_ID))\n",
    "                break\n",
    "\n",
    "        for files in os.listdir(os.path.join(img_path, folder)):\n",
    "            if os.path.isdir(os.path.join(img_path, folder, files)):\n",
    "                for file in os.listdir(os.path.join(img_path, folder, files)):\n",
    "                    if file.endswith(\".tif\"):\n",
    "                        for key in file_indexes.keys():\n",
    "                            if file.endswith(key):\n",
    "                                file_ID = file_indexes[key]\n",
    "                                tif_file=os.path.join(img_path, folder, files, file)\n",
    "                                tif_file=tiff.imread(tif_file).astype(np.uint8)\n",
    "\n",
    "                                sitk_image = sitk.GetImageFromArray(tif_file)\n",
    "                                sitk_image.SetSpacing(new_spacing) #ref_file.GetSpacing())\n",
    "                                sitk_image.SetOrigin(ref_file.GetOrigin()) #ref_file.GetOrigin())\n",
    "                                sitk_image.SetDirection(ref_file.GetDirection()) #ref_file.GetDirection())\n",
    "                                sitk.WriteImage(sitk_image, os.path.join(raw_path,\"imagesTr\", \"IF_Tr_%0.4d_%0.4d.nii.gz\"%(IMAGE_ID,file_ID)) )\n",
    "            else:\n",
    "                if files.endswith(\".tif\"):\n",
    "                    tif_file=os.path.join(img_path, folder, files)\n",
    "                    tif_file=tiff.imread(tif_file).astype(np.uint8)\n",
    "\n",
    "                    sitk_image = sitk.GetImageFromArray(tif_file)\n",
    "                    sitk_image.SetSpacing(new_spacing)\n",
    "                    sitk_image.SetOrigin(ref_file.GetOrigin()) #ref_file.GetOrigin())\n",
    "                    sitk_image.SetDirection(ref_file.GetDirection()) #ref_file.GetDirection())\n",
    "                    sitk.WriteImage(sitk_image, os.path.join(raw_path,\"imagesTr\", \"IF_Tr_%0.4d_0000.nii.gz\"%IMAGE_ID))"
   ]
  },
  {
   "cell_type": "code",
   "execution_count": null,
   "metadata": {},
   "outputs": [],
   "source": [
    "#change the file name ; Increment the IMAGE_ID by 1\n",
    "\n",
    "import os\n",
    "import SimpleITK as sitk\n",
    "path = \"/Users/dbattagodage/Desktop/Datasets/nnUnet_raw/Dataset352_IF/imagesTr/IF_Tr_0006_0000.nii.gz\"\n",
    "img = sitk.ReadImage(path)\n",
    "print(img.GetSpacing())"
   ]
  },
  {
   "cell_type": "code",
   "execution_count": 1,
   "metadata": {},
   "outputs": [
    {
     "name": "stdout",
     "output_type": "stream",
     "text": [
      "/Users/dbattagodage/Desktop/Datasets/nnUnet_raw/Dataset352_IF/labelsTr/IF_Tr_0002.nii.gz\n",
      "/Users/dbattagodage/Desktop/Datasets/nnUnet_raw/Dataset352_IF/labelsTr/IF_Tr_0006.nii.gz\n",
      "/Users/dbattagodage/Desktop/Datasets/nnUnet_raw/Dataset352_IF/labelsTr/IF_Tr_0004.nii.gz\n",
      "/Users/dbattagodage/Desktop/Datasets/nnUnet_raw/Dataset352_IF/labelsTr/IF_Tr_0001.nii.gz\n",
      "/Users/dbattagodage/Desktop/Datasets/nnUnet_raw/Dataset352_IF/labelsTr/IF_Tr_0003.nii.gz\n",
      "/Users/dbattagodage/Desktop/Datasets/nnUnet_raw/Dataset352_IF/labelsTr/IF_Tr_0005.nii.gz\n"
     ]
    }
   ],
   "source": [
    "#### CONVERT THE SEGMENTATION LABELS\n",
    "\n",
    "import numpy as np\n",
    "import nibabel as nib\n",
    "import os\n",
    "\n",
    "path=\"/Users/dbattagodage/Desktop/Datasets/nnUnet_raw/Dataset352_IF/labelsTr\"\n",
    "\n",
    "for files in os.listdir(path):\n",
    "    if files.endswith(\".nii.gz\"):\n",
    "        seg_file_path=os.path.join(path, files)\n",
    "        print(seg_file_path)\n",
    "        seg=nib.load(seg_file_path)\n",
    "        seg_file=seg.get_fdata().astype(np.uint8)\n",
    "        \n",
    "        seg_file[seg_file==1]=0\n",
    "        seg_file[seg_file==2]=1\n",
    "        seg_file[seg_file==3]=2\n",
    "        seg_file[seg_file==4]=3\n",
    "        seg_file[seg_file==5]=4\n",
    "        seg_file=nib.Nifti1Image(seg_file.astype(np.uint8), seg.affine, seg.header)\n",
    "        nib.save(seg_file, os.path.join(path,files))\n"
   ]
  },
  {
   "cell_type": "code",
   "execution_count": 1,
   "metadata": {},
   "outputs": [],
   "source": [
    "import numpy as np\n",
    "import nibabel as nib\n",
    "import os\n",
    "\n",
    "img = nib.load(\"/Users/dbattagodage/Desktop/Datasets/nnUnet_raw/Dataset352_IF/labelsTr/IF_Tr_0003.nii.gz\")\n",
    "arr = img.get_fdata()\n",
    "arr[arr==4]=7\n",
    "arr[arr==3]=4\n",
    "arr[arr==7]=3\n",
    "arr = nib.Nifti1Image(arr.astype(np.uint8), img.affine, img.header)\n",
    "nib.save(arr, \"/Users/dbattagodage/Desktop/Datasets/nnUnet_raw/Dataset352_IF/labelsTr/IF_Tr_0003.nii.gz\")"
   ]
  },
  {
   "cell_type": "code",
   "execution_count": 1,
   "metadata": {},
   "outputs": [
    {
     "data": {
      "text/plain": [
       "array([1, 2, 3, 4, 5], dtype=uint8)"
      ]
     },
     "execution_count": 1,
     "metadata": {},
     "output_type": "execute_result"
    }
   ],
   "source": [
    "import nibabel as nib\n",
    "import numpy as np\n",
    "\n",
    "seg= nib.load(\"/Users/dbattagodage/Desktop/Datasets/nnUnet_raw/Dataset352_IF/labelsTr/IF_Tr_0003.nii.gz\").get_fdata().astype(np.uint8)\n",
    "np.unique(seg)"
   ]
  },
  {
   "cell_type": "code",
   "execution_count": null,
   "metadata": {},
   "outputs": [],
   "source": [
    "## Change the dtype\n",
    "\n",
    "import numpy as np\n",
    "import nibabel as nib\n",
    "import os\n",
    "new_path=\"/Users/dbattagodage/Desktop/Datasets/nnUNet_raw/Dataset355_Endocardium\"\n",
    "path=\"/Users/dbattagodage/Desktop/Datasets/nnUNet_raw/Dataset345_Endocardium\"\n",
    "os.mkdir(os.path.join(path, \"imagesTr_2\"))\n",
    "\n",
    "for files in os.listdir(os.path.join(path, \"imagesTr\")):\n",
    "    if files.endswith(\".nii.gz\"):\n",
    "        file_path=os.path.join(path, \"imagesTr\", files)\n",
    "        nib_file=nib.load(file_path)\n",
    "        nib_file_data=nib_file.get_fdata().astype(np.float32)\n",
    "        nib_image=nib.Nifti1Image(nib_file_data, nib_file.affine, nib_file.header)\n",
    "        nib_image.set_data_dtype(np.float32)\n",
    "        nib.save(nib_image, os.path.join(path, \"imagesTr_2\", files))"
   ]
  }
 ],
 "metadata": {
  "kernelspec": {
   "display_name": "base",
   "language": "python",
   "name": "python3"
  },
  "language_info": {
   "codemirror_mode": {
    "name": "ipython",
    "version": 3
   },
   "file_extension": ".py",
   "mimetype": "text/x-python",
   "name": "python",
   "nbconvert_exporter": "python",
   "pygments_lexer": "ipython3",
   "version": "3.12.9"
  }
 },
 "nbformat": 4,
 "nbformat_minor": 2
}
